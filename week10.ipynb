{
 "cells": [
  {
   "cell_type": "code",
   "execution_count": 3,
   "id": "6e3e837b",
   "metadata": {
    "scrolled": true
   },
   "outputs": [
    {
     "name": "stdout",
     "output_type": "stream",
     "text": [
      "3 478 30\n",
      "최댓값: 478\n"
     ]
    }
   ],
   "source": [
    "# 실습문제 2번\n",
    "\n",
    "str = input()\n",
    "num = str.split()\n",
    "num = [int(i) for i in num]\n",
    "print(\"최댓값:\",max(num))"
   ]
  },
  {
   "cell_type": "code",
   "execution_count": 18,
   "id": "2dd0946c",
   "metadata": {
    "scrolled": true
   },
   "outputs": [
    {
     "name": "stdout",
     "output_type": "stream",
     "text": [
      "(0)암호화 (1)복호화 (2)종료: 0\n",
      "입력: abc def\n",
      "암호화된 비밀번호: efg bcd\n",
      "(0)암호화 (1)복호화 (2)종료: 1\n",
      "입력: efg bcd\n",
      "복호화된 비밀번호: abc def\n",
      "(0)암호화 (1)복호화 (2)종료: 2\n",
      "종료됩니다.\n"
     ]
    }
   ],
   "source": [
    "# 실습문제 3번\n",
    "\n",
    "while(1):\n",
    "    print(\"(0)암호화 (1)복호화 (2)종료:\", end=' ')\n",
    "    num = int(input())\n",
    "    if num == 2:\n",
    "        print(\"종료됩니다.\")\n",
    "        break\n",
    "    print(\"입력:\", end=' ')\n",
    "    str = input()\n",
    "    wrd = str.split()\n",
    "    wrd.reverse()\n",
    "    sen = \"\"\n",
    "    for i in range(len(wrd)):\n",
    "        for j in range(len(wrd[i])):\n",
    "            c = wrd[i][j]\n",
    "            n = ord(c)\n",
    "            if num == 0:\n",
    "                n += 1\n",
    "            elif num == 1:\n",
    "                n -= 1\n",
    "            c = chr(n)\n",
    "            sen += c\n",
    "        if i < len(wrd)-1:\n",
    "            sen += \" \"\n",
    "    if num == 0:\n",
    "        print(\"암호화된 비밀번호:\",sen)\n",
    "    elif num == 1:\n",
    "        print(\"복호화된 비밀번호:\",sen)"
   ]
  },
  {
   "cell_type": "code",
   "execution_count": 23,
   "id": "8171af55",
   "metadata": {
    "scrolled": false
   },
   "outputs": [
    {
     "name": "stdout",
     "output_type": "stream",
     "text": [
      "(이름) (전화전호)를 입력하시오\n",
      "abc 123\n",
      "def 456\n",
      "ghi 789\n",
      "jkl 012\n",
      "mno 345\n",
      "pqr 678\n",
      "stu 901\n",
      "vwx 234\n",
      "yza 567\n",
      "bcd 890\n",
      "(0)이름으로 검색 (1)전화번호로 검색 (2)종료: 0\n",
      "이름 입력: jkl\n",
      "전화번호: 012\n",
      "(0)이름으로 검색 (1)전화번호로 검색 (2)종료: 1\n",
      "전화번호 입력: 890\n",
      "이름: bcd\n",
      "(0)이름으로 검색 (1)전화번호로 검색 (2)종료: 2\n"
     ]
    }
   ],
   "source": [
    "# 실습문제 4번\n",
    "\n",
    "i = 0\n",
    "dir = dict()\n",
    "print(\"(이름) (전화전호)를 입력하시오\")\n",
    "while(i<10):\n",
    "    str = input()\n",
    "    i += 1\n",
    "    namenum = str.split()\n",
    "    name = namenum[0]\n",
    "    num = namenum[1]\n",
    "    dir[name] = num\n",
    "while(1):\n",
    "    print(\"(0)이름으로 검색 (1)전화번호로 검색 (2)종료:\", end=' ')\n",
    "    i = int(input())\n",
    "    if i == 0:\n",
    "        print(\"이름 입력:\", end=' ')\n",
    "        n = input()\n",
    "        print(\"전화번호:\",dir[n])\n",
    "    elif i == 1:\n",
    "        print(\"전화번호 입력:\", end=' ')\n",
    "        m = input()\n",
    "        for k, v in dir.items():\n",
    "            if(v == m):\n",
    "                a = k\n",
    "        print(\"이름:\",a)\n",
    "    elif i == 2:\n",
    "        break"
   ]
  }
 ],
 "metadata": {
  "kernelspec": {
   "display_name": "Python 3",
   "language": "python",
   "name": "python3"
  },
  "language_info": {
   "codemirror_mode": {
    "name": "ipython",
    "version": 3
   },
   "file_extension": ".py",
   "mimetype": "text/x-python",
   "name": "python",
   "nbconvert_exporter": "python",
   "pygments_lexer": "ipython3",
   "version": "3.9.4"
  }
 },
 "nbformat": 4,
 "nbformat_minor": 5
}
