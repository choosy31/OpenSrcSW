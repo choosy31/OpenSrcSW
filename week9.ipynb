{
 "cells": [
  {
   "cell_type": "code",
   "execution_count": 9,
   "id": "8a5d6a14",
   "metadata": {},
   "outputs": [
    {
     "name": "stdout",
     "output_type": "stream",
     "text": [
      "3\n",
      "x =  3\n",
      "y =  45\n"
     ]
    }
   ],
   "source": [
    "# 실습문제 1번\n",
    "\n",
    "x = int(input())\n",
    "print(\"x = \",x)\n",
    "y = 3*x*x + 5*x + 3\n",
    "print(\"y = \",y)"
   ]
  },
  {
   "cell_type": "code",
   "execution_count": 7,
   "id": "54c0953b",
   "metadata": {},
   "outputs": [
    {
     "name": "stdout",
     "output_type": "stream",
     "text": [
      "4\n",
      "원의 둘레 :  25.12\n",
      "원의 넓이 :  50.24\n"
     ]
    }
   ],
   "source": [
    "# 실습문제 2번\n",
    "\n",
    "r = int(input())\n",
    "pi = 3.14\n",
    "print(\"원의 둘레 : \",2*pi*r)\n",
    "print(\"원의 넓이 : \",pi*r*r)"
   ]
  }
 ],
 "metadata": {
  "kernelspec": {
   "display_name": "Python 3",
   "language": "python",
   "name": "python3"
  },
  "language_info": {
   "codemirror_mode": {
    "name": "ipython",
    "version": 3
   },
   "file_extension": ".py",
   "mimetype": "text/x-python",
   "name": "python",
   "nbconvert_exporter": "python",
   "pygments_lexer": "ipython3",
   "version": "3.9.4"
  }
 },
 "nbformat": 4,
 "nbformat_minor": 5
}
