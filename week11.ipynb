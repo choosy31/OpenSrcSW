{
 "cells": [
  {
   "cell_type": "code",
   "execution_count": 10,
   "id": "98ca9e50",
   "metadata": {
    "scrolled": true
   },
   "outputs": [
    {
     "name": "stdout",
     "output_type": "stream",
     "text": [
      "cp file1 file2\n"
     ]
    }
   ],
   "source": [
    "# 실습문제 6번\n",
    "\n",
    "userinput = input()\n",
    "user = userinput.split()\n",
    "f1 = open(user[1],'w')\n",
    "for i in range(1, 11):\n",
    "    data = \"{0:d}sentence ~\\n\".format(i)\n",
    "    f1.write(data)\n",
    "f1 = open(user[1],'r')\n",
    "f2 = open(user[2],'w')\n",
    "if user[0] == \"cp\":\n",
    "    for line in f1.readlines():\n",
    "        f2.write(line)\n",
    "f1.close()\n",
    "f2.close()"
   ]
  },
  {
   "cell_type": "code",
   "execution_count": 11,
   "id": "197de1e3",
   "metadata": {},
   "outputs": [
    {
     "name": "stdout",
     "output_type": "stream",
     "text": [
      "wc file1\n",
      "라인 수: 10\n",
      "단어 수: 20\n"
     ]
    }
   ],
   "source": [
    "# 실습문제 7번\n",
    "\n",
    "userinput = input()\n",
    "user = userinput.split()\n",
    "f = open(user[1],'r')\n",
    "i = 0\n",
    "wrd = 0\n",
    "for line in f.readlines():\n",
    "    i = i+1\n",
    "    word = line.split()\n",
    "    for a in word:\n",
    "        wrd = wrd+1\n",
    "if user[0] == \"wc\":\n",
    "    print(\"라인 수:\",i)\n",
    "    print(\"단어 수:\",wrd)\n",
    "f.close()"
   ]
  },
  {
   "cell_type": "code",
   "execution_count": 1,
   "id": "b43aca98",
   "metadata": {
    "scrolled": true
   },
   "outputs": [
    {
     "name": "stdout",
     "output_type": "stream",
     "text": [
      "4 + 5 = 9 입니다.\n",
      "5 - 1 = 4 입니다.\n",
      "4 * 5 = 20 입니다.\n",
      "10.000000 / 5 = 2.000000 입니다.\n"
     ]
    }
   ],
   "source": [
    "# 실습문제 8번\n",
    "\n",
    "# -*- coding: cp949 -*-\n",
    "class Calc:\n",
    "    def sum(self, a, b):\n",
    "        result = a+b\n",
    "        print(\"{0:d} + {1:d} = {2:d} 입니다.\".format(a,b,result))\n",
    "    def sub(self, a, b):\n",
    "        result = a-b\n",
    "        print(\"{0:d} - {1:d} = {2:d} 입니다.\".format(a,b,result))\n",
    "    def multi(self, a, b):\n",
    "        result = a*b\n",
    "        print(\"{0:d} * {1:d} = {2:d} 입니다.\".format(a,b,result))\n",
    "    def divi(self, a, b):\n",
    "        result = a/b\n",
    "        print(\"{0:f} / {1:d} = {2:f} 입니다.\".format(a,b,result)) \n",
    "\n",
    "calc = Calc()\n",
    "calc.sum(4,5)\n",
    "calc.sub(5,1)\n",
    "calc.multi(4,5)\n",
    "calc.divi(10,5)"
   ]
  },
  {
   "cell_type": "code",
   "execution_count": 5,
   "id": "eeed6885",
   "metadata": {
    "scrolled": false
   },
   "outputs": [
    {
     "name": "stdout",
     "output_type": "stream",
     "text": [
      "계산식 입력: 4 + 5 * 2 - 6 / 3 * 2\n",
      "계산식 출력: 4 + 5 * 2 - 6 / 3 * 2 = 10.0\n"
     ]
    }
   ],
   "source": [
    "# 실습문제 9번\n",
    "\n",
    "print(\"계산식 입력:\", end=' ')\n",
    "userinput = input()\n",
    "user = userinput.split()\n",
    "class Stack:\n",
    "    def __init__(self):\n",
    "        self.list = []\n",
    "    def push(self, a):\n",
    "        self.list.append(a)\n",
    "    def getlist(self):\n",
    "        return self.list\n",
    "    def pop(self):\n",
    "        return self.list.pop()\n",
    "stack1 = Stack()\n",
    "stack2 = Stack()\n",
    "a = ''\n",
    "h = ''\n",
    "for i in user:\n",
    "    if (i == '+'):\n",
    "        if a=='-':\n",
    "            f1 = stack1.pop()\n",
    "            f2 = stack1.pop()\n",
    "            b = f2-f1\n",
    "            stack1.push(b)\n",
    "            stack2.pop()\n",
    "        elif a=='+':\n",
    "            f1 = stack1.pop()\n",
    "            f2 = stack1.pop()\n",
    "            b = f2+f1\n",
    "            stack1.push(b)\n",
    "            stack2.pop()\n",
    "        elif a=='':\n",
    "            a='+'\n",
    "            stack2.push(i)\n",
    "            continue\n",
    "        a='+'\n",
    "        stack2.push(i)\n",
    "        continue\n",
    "    elif (i == '-'):\n",
    "        if a=='-':\n",
    "            f1 = stack1.pop()\n",
    "            f2 = stack1.pop()\n",
    "            b = f2-f1\n",
    "            stack1.push(b)\n",
    "            stack2.pop()\n",
    "        elif a=='+':\n",
    "            f1 = stack1.pop()\n",
    "            f2 = stack1.pop()\n",
    "            b = f2+f1\n",
    "            stack1.push(b)\n",
    "            stack2.pop()\n",
    "        elif a=='':\n",
    "            a='-'\n",
    "            stack2.push(i)\n",
    "            continue\n",
    "        a='-'\n",
    "        stack2.push(i)\n",
    "        continue\n",
    "    elif (i == '*'):\n",
    "        h='*'\n",
    "        stack2.push(i)\n",
    "    elif (i == '/'):\n",
    "        h='/'\n",
    "        stack2.push(i)\n",
    "    else:\n",
    "        stack1.push(int(i))\n",
    "        if h=='*':\n",
    "            f1 = stack1.pop()\n",
    "            f2 = stack1.pop()\n",
    "            b = f2*f1\n",
    "            stack1.push(b)\n",
    "            stack2.pop()\n",
    "            h=''\n",
    "        elif h=='/':\n",
    "            f1 = stack1.pop()\n",
    "            f2 = float(stack1.pop())\n",
    "            b = f2/f1\n",
    "            stack1.push(b)\n",
    "            stack2.pop()\n",
    "            h=''\n",
    "if a=='+':\n",
    "    f1 = stack1.pop()\n",
    "    f2 = float(stack1.pop())\n",
    "    b = f2+f1\n",
    "    stack1.push(b)\n",
    "    stack2.pop()\n",
    "elif a=='-':\n",
    "    f1 = stack1.pop()\n",
    "    f2 = float(stack1.pop())\n",
    "    b = f2-f1\n",
    "    stack1.push(b)\n",
    "    stack2.pop()\n",
    "print(\"계산식 출력:\", end=' ')\n",
    "for i in user:\n",
    "    print(i, end=' ')\n",
    "print(\"=\",stack1.pop())"
   ]
  }
 ],
 "metadata": {
  "kernelspec": {
   "display_name": "Python 3",
   "language": "python",
   "name": "python3"
  },
  "language_info": {
   "codemirror_mode": {
    "name": "ipython",
    "version": 3
   },
   "file_extension": ".py",
   "mimetype": "text/x-python",
   "name": "python",
   "nbconvert_exporter": "python",
   "pygments_lexer": "ipython3",
   "version": "3.8.8"
  }
 },
 "nbformat": 4,
 "nbformat_minor": 5
}
